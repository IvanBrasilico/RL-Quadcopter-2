{
 "cells": [
  {
   "cell_type": "markdown",
   "metadata": {},
   "source": [
    "# Project: Train a Quadcopter How to Fly\n",
    "\n",
    "Design an agent to fly a quadcopter, and then train it using a reinforcement learning algorithm of your choice! \n",
    "\n",
    "Try to apply the techniques you have learnt, but also feel free to come up with innovative ideas and test them."
   ]
  },
  {
   "cell_type": "markdown",
   "metadata": {},
   "source": [
    "## Instructions\n",
    "\n",
    "Take a look at the files in the directory to better understand the structure of the project. \n",
    "\n",
    "- `task.py`: Define your task (environment) in this file.\n",
    "- `agents/`: Folder containing reinforcement learning agents.\n",
    "    - `policy_search.py`: A sample agent has been provided here.\n",
    "    - `agent.py`: Develop your agent here.\n",
    "- `physics_sim.py`: This file contains the simulator for the quadcopter.  **DO NOT MODIFY THIS FILE**.\n",
    "\n",
    "For this project, you will define your own task in `task.py`.  Although we have provided a example task to get you started, you are encouraged to change it.  Later in this notebook, you will learn more about how to amend this file.\n",
    "\n",
    "You will also design a reinforcement learning agent in `agent.py` to complete your chosen task.  \n",
    "\n",
    "You are welcome to create any additional files to help you to organize your code.  For instance, you may find it useful to define a `model.py` file defining any needed neural network architectures.\n",
    "\n",
    "## Controlling the Quadcopter\n",
    "\n",
    "We provide a sample agent in the code cell below to show you how to use the sim to control the quadcopter.  This agent is even simpler than the sample agent that you'll examine (in `agents/policy_search.py`) later in this notebook!\n",
    "\n",
    "The agent controls the quadcopter by setting the revolutions per second on each of its four rotors.  The provided agent in the `Basic_Agent` class below always selects a random action for each of the four rotors.  These four speeds are returned by the `act` method as a list of four floating-point numbers.  \n",
    "\n",
    "For this project, the agent that you will implement in `agents/agent.py` will have a far more intelligent method for selecting actions!"
   ]
  },
  {
   "cell_type": "code",
   "execution_count": 1,
   "metadata": {},
   "outputs": [],
   "source": [
    "%load_ext autoreload\n",
    "%autoreload 2\n",
    "\n",
    "import csv\n",
    "import matplotlib.pyplot as plt\n",
    "import numpy as np\n",
    "import sys\n",
    "\n",
    "# Modify the values below to give the quadcopter a different starting position.\n",
    "runtime = 5.                                     # time limit of the episode\n",
    "init_pose = np.array([0., 0., 10., 0., 0., 0.])  # initial pose\n",
    "init_velocities = np.array([0., 0., 0.])         # initial velocities\n",
    "init_angle_velocities = np.array([0., 0., 0.])   # initial angle velocities\n",
    "file_output = 'data.txt'                         # file name for saved results\n",
    "\n",
    "# Setup\n",
    "labels = ['time', 'x', 'y', 'z', 'phi', 'theta', 'psi', 'x_velocity',\n",
    "          'y_velocity', 'z_velocity', 'phi_velocity', 'theta_velocity',\n",
    "          'psi_velocity', 'rotor_speed1', 'rotor_speed2', 'rotor_speed3', 'rotor_speed4']\n",
    "results = {x : [] for x in labels}"
   ]
  },
  {
   "cell_type": "code",
   "execution_count": 2,
   "metadata": {},
   "outputs": [],
   "source": [
    "class FakeSim:\n",
    "    v = np.array([0., 0., 0.])\n",
    "    done = False\n",
    "    \n",
    "class FakeTask:\n",
    "    sim = FakeSim()\n",
    "    target_v =  np.array([0., 0., 8.])\n",
    "    \n",
    "faketask = FakeTask()\n",
    "\n",
    "def plot_rewards(reward_function, start=-10, end=10):\n",
    "    x = []\n",
    "    y = []\n",
    "    for i in range(start, end):\n",
    "        faketask.sim.v[2] = i\n",
    "        x.append(i)\n",
    "        y.append(reward_function(faketask))\n",
    "    plt.figure(figsize=(12, 6))\n",
    "    plt.plot(x, y)\n"
   ]
  },
  {
   "cell_type": "code",
   "execution_count": 114,
   "metadata": {},
   "outputs": [
    {
     "data": {
      "image/png": "[encoded data removed]",
      "text/plain": [
       "<Figure size 864x432 with 1 Axes>"
      ]
     },
     "metadata": {
      "needs_background": "light"
     },
     "output_type": "display_data"
    }
   ],
   "source": [
    "from scipy.spatial import distance\n",
    "\n",
    "\n",
    "def reward_function(task, batch_size=32):\n",
    "    if task.sim.done and task.sim.runtime > task.sim.time:\n",
    "        return -1000.\n",
    "    # reward = np.linalg.norm(task.sim.v - task.target_v)\n",
    "    # return 1 - distance.euclidean(task.sim.v, task.target_v)\n",
    "    return 1 - abs(task.sim.v - task.target_v).sum()\n",
    "plot_rewards(reward_function)"
   ]
  },
  {
   "cell_type": "markdown",
   "metadata": {
    "collapsed": true
   },
   "source": [
    "## Define the Task, Design the Agent, and Train Your Agent!\n",
    "\n",
    "Amend `task.py` to specify a task of your choosing.  If you're unsure what kind of task to specify, you may like to teach your quadcopter to takeoff, hover in place, land softly, or reach a target pose.  \n",
    "\n",
    "After specifying your task, use the sample agent in `agents/policy_search.py` as a template to define your own agent in `agents/agent.py`.  You can borrow whatever you need from the sample agent, including ideas on how you might modularize your code (using helper methods like `act()`, `learn()`, `reset_episode()`, etc.).\n",
    "\n",
    "Note that it is **highly unlikely** that the first agent and task that you specify will learn well.  You will likely have to tweak various hyperparameters and the reward function for your task until you arrive at reasonably good behavior.\n",
    "\n",
    "As you develop your agent, it's important to keep an eye on how it's performing. Use the code above as inspiration to build in a mechanism to log/save the total rewards obtained in each episode to file.  If the episode rewards are gradually increasing, this is an indication that your agent is learning."
   ]
  },
  {
   "cell_type": "code",
   "execution_count": null,
   "metadata": {},
   "outputs": [
    {
     "name": "stdout",
     "output_type": "stream",
     "text": [
      "Reward -1073.1438 Better -18.1782 Mean -6.2340 Episode  -2370.5316 : 375      "
     ]
    }
   ],
   "source": [
    "from collections import defaultdict\n",
    "\n",
    "from agents.agent import DDPG\n",
    "from task import Task\n",
    "\n",
    "\n",
    "ddpg_output = 'ddpgdata_velocity.txt'\n",
    "target_v = np.array([0., 0., 6.])\n",
    "task = Task(target_v=target_v, runtime=10.)\n",
    "agent = DDPG(task)\n",
    "agent.tau = 0.004\n",
    "agent.gamma = 0.98\n",
    "\n",
    "resultados = {}\n",
    "new_labels = labels + ['reward']\n",
    "better_reward = float(\"-inf\")\n",
    "num_episodes = 500\n",
    "\n",
    "with open(ddpg_output, 'w') as csvfile:\n",
    "    writer = csv.writer(csvfile)\n",
    "    writer.writerow(labels)\n",
    "    for i_episode in range(1, num_episodes + 1):\n",
    "        mean_reward = 0\n",
    "        episode_reward = 0\n",
    "        state = agent.reset_episode() # start a new episode\n",
    "        episode_result = defaultdict(list)\n",
    "        to_write_list = []\n",
    "        while True:\n",
    "            action = agent.act(state) \n",
    "            # print(action, task.sim.pose)\n",
    "            next_state, reward, done = task.step(action,  reward_function)\n",
    "            # print(reward)\n",
    "            to_write = [task.sim.time] + list(task.sim.pose) + list(task.sim.v) \\\n",
    "                + list(task.sim.angular_v) + list(action) + [float(reward)]\n",
    "            to_write_list.append(to_write)\n",
    "            for ii in range(len(new_labels)):\n",
    "                episode_result[new_labels[ii]].append(to_write[ii])\n",
    "            agent.step(action, reward, next_state, done)\n",
    "            state = next_state\n",
    "            episode_reward += reward\n",
    "            mean_reward = mean_reward + ((reward - mean_reward) / i_episode)\n",
    "            if done:\n",
    "                if reward > better_reward:\n",
    "                    better_reward = reward\n",
    "                sys.stdout.flush()\n",
    "                print(\"\\rReward {:0.04f} Better {:0.04f} Mean {:0.04f} Episode  {:0.04f} : {}   \".format(\n",
    "                    reward, better_reward, mean_reward, episode_reward, i_episode), end=\"\")\n",
    "                break\n",
    "        writer.writerows(to_write_list)\n",
    "        resultados[i_episode] = episode_result\n"
   ]
  },
  {
   "cell_type": "markdown",
   "metadata": {
    "collapsed": true
   },
   "source": [
    "## Plot the Rewards\n",
    "\n",
    "Once you are satisfied with your performance, plot the episode rewards, either from a single run, or averaged over multiple runs. "
   ]
  },
  {
   "cell_type": "code",
   "execution_count": null,
   "metadata": {},
   "outputs": [],
   "source": [
    "all_rewards = []\n",
    "for e in range(1, num_episodes + 1):\n",
    "    rewards = resultados[e]['reward']\n",
    "    all_rewards.extend(rewards)\n",
    "plt.figure(figsize=(15, 8))\n",
    "plt.plot(all_rewards)\n",
    "    "
   ]
  },
  {
   "cell_type": "code",
   "execution_count": null,
   "metadata": {},
   "outputs": [],
   "source": [
    "plt.figure(figsize=(15, 8))\n",
    "plt.plot(all_rewards[-1000:])"
   ]
  },
  {
   "cell_type": "code",
   "execution_count": null,
   "metadata": {},
   "outputs": [],
   "source": [
    "mean_rewards = []\n",
    "nepisodes = []\n",
    "for e in range(1, num_episodes + 1):\n",
    "    rewards = resultados[e]['reward']\n",
    "    mean_rewards.append(sum(rewards) / len(rewards))\n",
    "    nepisodes.append(e)\n",
    "plt.figure(figsize=(15, 8))\n",
    "plt.plot(nepisodes, mean_rewards)\n",
    "    "
   ]
  },
  {
   "cell_type": "code",
   "execution_count": null,
   "metadata": {},
   "outputs": [],
   "source": [
    "fig = plt.figure(figsize=(16, 12))\n",
    "rows = cols = 3\n",
    "num_plots = rows * cols\n",
    "salto = num_episodes / num_plots\n",
    "\n",
    "for i in range(num_plots):\n",
    "    episode_number = int(salto  * (i + 1))\n",
    "    results = resultados[episode_number]\n",
    "    lrewards = [rw / 10 for rw in results['reward']]\n",
    "    plt.subplot(rows, cols, i + 1)\n",
    "    plt.scatter(results['time'], results['x'], label='x')\n",
    "    plt.scatter(results['time'], results['y'], label='y')\n",
    "    plt.scatter(results['time'], results['z'], label='z')\n",
    "    plt.scatter(results['time'], lrewards, label='rewards')\n",
    "    plt.legend()\n",
    "    plt.title('Episode %s' % episode_number)\n",
    "    _ = plt.ylim()\n",
    "\n",
    "plt.show()"
   ]
  },
  {
   "cell_type": "code",
   "execution_count": null,
   "metadata": {},
   "outputs": [],
   "source": [
    "from mpl_toolkits.mplot3d import Axes3D\n",
    "%matplotlib inline \n",
    "\n",
    "fig = plt.figure(figsize = (14,8))\n",
    "ax = fig.add_subplot(111, projection='3d')\n",
    "\n",
    "ax.set_xlabel('X')\n",
    "ax.set_ylabel('Y')\n",
    "ax.set_zlabel('Z')\n",
    "\n",
    "results = resultados[num_episodes]\n",
    "ax.scatter(results['x'], results['y'], results['z'])"
   ]
  },
  {
   "cell_type": "code",
   "execution_count": null,
   "metadata": {},
   "outputs": [],
   "source": [
    "fig = plt.figure(figsize=(16, 12))\n",
    "rows = cols = 3\n",
    "num_plots = rows * cols\n",
    "salto = num_episodes / num_plots\n",
    "\n",
    "for i in range(num_plots):\n",
    "    episode_number = int(salto  * (i + 1))\n",
    "    results = resultados[episode_number]\n",
    "    lrewards = [rw / 40 for rw in results['reward']]\n",
    "    plt.subplot(rows, cols, i + 1)\n",
    "    plt.scatter(results['time'], results['x_velocity'], label='x_velocity')\n",
    "    plt.scatter(results['time'], results['y_velocity'], label='y_velocity')\n",
    "    plt.scatter(results['time'], results['z_velocity'], label='z_velocity')\n",
    "    plt.scatter(results['time'], lrewards, label='rewards')\n",
    "    plt.legend()\n",
    "    plt.title('Episode %s' % episode_number)\n",
    "    _ = plt.ylim()\n",
    "\n",
    "plt.show()"
   ]
  },
  {
   "cell_type": "code",
   "execution_count": null,
   "metadata": {},
   "outputs": [],
   "source": []
  },
  {
   "cell_type": "code",
   "execution_count": null,
   "metadata": {},
   "outputs": [],
   "source": []
  }
 ],
 "metadata": {
  "anaconda-cloud": {},
  "kernelspec": {
   "display_name": "quadcop",
   "language": "python",
   "name": "quadcop"
  },
  "language_info": {
   "codemirror_mode": {
    "name": "ipython",
    "version": 3
   },
   "file_extension": ".py",
   "mimetype": "text/x-python",
   "name": "python",
   "nbconvert_exporter": "python",
   "pygments_lexer": "ipython3",
   "version": "3.6.8"
  }
 },
 "nbformat": 4,
 "nbformat_minor": 2
}
